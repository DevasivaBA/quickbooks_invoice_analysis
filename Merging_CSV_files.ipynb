{
  "nbformat": 4,
  "nbformat_minor": 0,
  "metadata": {
    "colab": {
      "provenance": [],
      "mount_file_id": "1J-ZYhE98nD0u8psClLahRNkjbtCiONFr",
      "authorship_tag": "ABX9TyP4bWslZUyKLErjkIjQjRZj",
      "include_colab_link": true
    },
    "kernelspec": {
      "name": "python3",
      "display_name": "Python 3"
    },
    "language_info": {
      "name": "python"
    }
  },
  "cells": [
    {
      "cell_type": "markdown",
      "metadata": {
        "id": "view-in-github",
        "colab_type": "text"
      },
      "source": [
        "<a href=\"https://colab.research.google.com/github/DevasivaBA/quickbooks_invoice_analysis/blob/main/Merging_CSV_files.ipynb\" target=\"_parent\"><img src=\"https://colab.research.google.com/assets/colab-badge.svg\" alt=\"Open In Colab\"/></a>"
      ]
    },
    {
      "cell_type": "code",
      "execution_count": 2,
      "metadata": {
        "id": "oWhQ2oINQDTU"
      },
      "outputs": [],
      "source": [
        "import pandas as pd\n",
        "import glob\n",
        "import os\n",
        "import numpy as np"
      ]
    },
    {
      "cell_type": "code",
      "source": [
        "output_directory = '/content/drive/MyDrive/TBC Copiers/Cleaned_Sales'"
      ],
      "metadata": {
        "id": "_pfdwQKfQf9s"
      },
      "execution_count": 5,
      "outputs": []
    },
    {
      "cell_type": "code",
      "source": [
        "sales_files = glob.glob(os.path.join(output_directory, \"sales_*.csv\"))\n",
        "void_files = glob.glob(os.path.join(output_directory, \"void_*.csv\"))"
      ],
      "metadata": {
        "id": "yvPFfwO6QmjL"
      },
      "execution_count": 6,
      "outputs": []
    },
    {
      "cell_type": "code",
      "source": [
        "print(f\"Found {len(sales_files)} sales files:\")\n",
        "print(sales_files)\n",
        "print(f\"\\nFound {len(void_files)} void files:\")\n",
        "print(void_files)"
      ],
      "metadata": {
        "colab": {
          "base_uri": "https://localhost:8080/"
        },
        "id": "IQOEIayhRkcY",
        "outputId": "85b00d89-be68-4d56-8902-e3628f500604"
      },
      "execution_count": 7,
      "outputs": [
        {
          "output_type": "stream",
          "name": "stdout",
          "text": [
            "Found 5 sales files:\n",
            "['/content/drive/MyDrive/TBC Copiers/Cleaned_Sales/sales_Sales 2024 08_04_2024_cleaned.csv', '/content/drive/MyDrive/TBC Copiers/Cleaned_Sales/sales_Sales 2020_cleaned.csv', '/content/drive/MyDrive/TBC Copiers/Cleaned_Sales/sales_Sales 2022_cleaned.csv', '/content/drive/MyDrive/TBC Copiers/Cleaned_Sales/sales_Sales 2021_cleaned.csv', '/content/drive/MyDrive/TBC Copiers/Cleaned_Sales/sales_Sales 2023_cleaned.csv']\n",
            "\n",
            "Found 5 void files:\n",
            "['/content/drive/MyDrive/TBC Copiers/Cleaned_Sales/void_Sales 2024 08_04_2024_cleaned.csv', '/content/drive/MyDrive/TBC Copiers/Cleaned_Sales/void_Sales 2023_cleaned.csv', '/content/drive/MyDrive/TBC Copiers/Cleaned_Sales/void_Sales 2022_cleaned.csv', '/content/drive/MyDrive/TBC Copiers/Cleaned_Sales/void_Sales 2021_cleaned.csv', '/content/drive/MyDrive/TBC Copiers/Cleaned_Sales/void_Sales 2020_cleaned.csv']\n"
          ]
        }
      ]
    },
    {
      "cell_type": "code",
      "source": [
        "#Count Rows in Each Sales File\n",
        "total_sales_rows_before = 0\n",
        "for file in sales_files:\n",
        "    df = pd.read_csv(file)\n",
        "    total_sales_rows_before += df.shape[0]\n",
        "    print(f\"Shape of {file}: {df.shape[0]}\")\n",
        "print(f\"\\nTotal sales rows before merge: {total_sales_rows_before}\")"
      ],
      "metadata": {
        "colab": {
          "base_uri": "https://localhost:8080/"
        },
        "id": "SC-Wn5N2Rtm5",
        "outputId": "fcfe89cf-9080-4285-8539-7ea65125a003"
      },
      "execution_count": 9,
      "outputs": [
        {
          "output_type": "stream",
          "name": "stdout",
          "text": [
            "Shape of /content/drive/MyDrive/TBC Copiers/Cleaned_Sales/sales_Sales 2024 08_04_2024_cleaned.csv: 4218\n",
            "Shape of /content/drive/MyDrive/TBC Copiers/Cleaned_Sales/sales_Sales 2020_cleaned.csv: 4641\n",
            "Shape of /content/drive/MyDrive/TBC Copiers/Cleaned_Sales/sales_Sales 2022_cleaned.csv: 10797\n",
            "Shape of /content/drive/MyDrive/TBC Copiers/Cleaned_Sales/sales_Sales 2021_cleaned.csv: 11783\n",
            "Shape of /content/drive/MyDrive/TBC Copiers/Cleaned_Sales/sales_Sales 2023_cleaned.csv: 9518\n",
            "\n",
            "Total sales rows before merge: 40957\n"
          ]
        }
      ]
    },
    {
      "cell_type": "code",
      "source": [
        "#Count Rows in Each Void File\n",
        "total_void_rows_before = 0\n",
        "for file in void_files:\n",
        "    df = pd.read_csv(file)\n",
        "    total_void_rows_before += df.shape[0]\n",
        "    print(f\"Shape of {file}: {df.shape[0]}\")\n",
        "print(f\"\\nTotal void rows before merge: {total_void_rows_before}\")"
      ],
      "metadata": {
        "colab": {
          "base_uri": "https://localhost:8080/"
        },
        "id": "zOII2SKAR5Ch",
        "outputId": "aa15685a-08bc-440b-e236-842c43fe5c59"
      },
      "execution_count": 10,
      "outputs": [
        {
          "output_type": "stream",
          "name": "stdout",
          "text": [
            "Shape of /content/drive/MyDrive/TBC Copiers/Cleaned_Sales/void_Sales 2024 08_04_2024_cleaned.csv: 825\n",
            "Shape of /content/drive/MyDrive/TBC Copiers/Cleaned_Sales/void_Sales 2023_cleaned.csv: 4036\n",
            "Shape of /content/drive/MyDrive/TBC Copiers/Cleaned_Sales/void_Sales 2022_cleaned.csv: 2417\n",
            "Shape of /content/drive/MyDrive/TBC Copiers/Cleaned_Sales/void_Sales 2021_cleaned.csv: 841\n",
            "Shape of /content/drive/MyDrive/TBC Copiers/Cleaned_Sales/void_Sales 2020_cleaned.csv: 86\n",
            "\n",
            "Total void rows before merge: 8205\n"
          ]
        }
      ]
    },
    {
      "cell_type": "code",
      "source": [
        "#Merge Sales Files\n",
        "all_sales = pd.DataFrame()  # Create empty DataFrame\n",
        "for file in sales_files:\n",
        "    df = pd.read_csv(file)\n",
        "    all_sales = pd.concat([all_sales, df], ignore_index=True)\n",
        "print(\"Sales files merged.\")"
      ],
      "metadata": {
        "colab": {
          "base_uri": "https://localhost:8080/"
        },
        "id": "UW5PgN6KSHGa",
        "outputId": "a0927c46-0e0a-4c17-8235-57f638af7f9d"
      },
      "execution_count": 12,
      "outputs": [
        {
          "output_type": "stream",
          "name": "stdout",
          "text": [
            "Sales files merged.\n"
          ]
        }
      ]
    },
    {
      "cell_type": "code",
      "source": [
        " #Merge Void Files\n",
        "all_void = pd.DataFrame()   # Create empty DataFrame\n",
        "for file in void_files:\n",
        "    df = pd.read_csv(file)\n",
        "    all_void = pd.concat([all_void, df], ignore_index=True)\n",
        "print(\"Void files merged.\")"
      ],
      "metadata": {
        "colab": {
          "base_uri": "https://localhost:8080/"
        },
        "id": "wPwYuHooSSaK",
        "outputId": "0f1ac1e6-c706-4105-81bf-792507585dad"
      },
      "execution_count": 13,
      "outputs": [
        {
          "output_type": "stream",
          "name": "stdout",
          "text": [
            "Void files merged.\n"
          ]
        }
      ]
    },
    {
      "cell_type": "code",
      "source": [
        "# Validate merge and print details\n",
        "print(f\"Total sales rows before merge: {total_sales_rows_before}\")\n",
        "print(f\"Total sales rows after merge: {all_sales.shape[0]}\")\n",
        "assert all_sales.shape[0] == total_sales_rows_before, \"Sales merge row mismatch!\"\n",
        "\n",
        "print(f\"\\nTotal void rows before merge: {total_void_rows_before}\")\n",
        "print(f\"Total void rows after merge: {all_void.shape[0]}\")\n",
        "assert all_void.shape[0] == total_void_rows_before, \"Void merge row mismatch!\"\n",
        "\n"
      ],
      "metadata": {
        "colab": {
          "base_uri": "https://localhost:8080/"
        },
        "id": "irFk2_VRSYWy",
        "outputId": "f7ffba3c-fe16-4157-934e-03ddc158325b"
      },
      "execution_count": 14,
      "outputs": [
        {
          "output_type": "stream",
          "name": "stdout",
          "text": [
            "Total sales rows before merge: 40957\n",
            "Total sales rows after merge: 40957\n",
            "\n",
            "Total void rows before merge: 8205\n",
            "Total void rows after merge: 8205\n"
          ]
        }
      ]
    },
    {
      "cell_type": "code",
      "source": [],
      "metadata": {
        "id": "nkr9L6wlS9fe"
      },
      "execution_count": null,
      "outputs": []
    }
  ]
}