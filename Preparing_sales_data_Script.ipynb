{
  "nbformat": 4,
  "nbformat_minor": 0,
  "metadata": {
    "colab": {
      "provenance": [],
      "mount_file_id": "1J-ZYhE98nD0u8psClLahRNkjbtCiONFr",
      "authorship_tag": "ABX9TyOrG/ReM0MmrrB/Le+Z8SM/",
      "include_colab_link": true
    },
    "kernelspec": {
      "name": "python3",
      "display_name": "Python 3"
    },
    "language_info": {
      "name": "python"
    }
  },
  "cells": [
    {
      "cell_type": "markdown",
      "metadata": {
        "id": "view-in-github",
        "colab_type": "text"
      },
      "source": [
        "<a href=\"https://colab.research.google.com/github/DevasivaBA/quickbooks_invoice_analysis/blob/main/Preparing_sales_data_Script.ipynb\" target=\"_parent\"><img src=\"https://colab.research.google.com/assets/colab-badge.svg\" alt=\"Open In Colab\"/></a>"
      ]
    },
    {
      "cell_type": "code",
      "execution_count": null,
      "metadata": {
        "id": "oWhQ2oINQDTU",
        "cellView": "form"
      },
      "outputs": [],
      "source": [
        "# @title\n",
        "import pandas as pd\n",
        "import glob\n",
        "import os\n",
        "import numpy as np"
      ]
    },
    {
      "cell_type": "code",
      "source": [
        "# @title\n",
        "output_directory = '/content/drive/MyDrive/TBC Copiers/Cleaned_Sales'"
      ],
      "metadata": {
        "cellView": "form",
        "id": "_pfdwQKfQf9s"
      },
      "execution_count": null,
      "outputs": []
    },
    {
      "cell_type": "code",
      "source": [
        "# @title\n",
        "sales_files = glob.glob(os.path.join(output_directory, \"sales_*.csv\"))\n",
        "void_files = glob.glob(os.path.join(output_directory, \"void_*.csv\"))"
      ],
      "metadata": {
        "cellView": "form",
        "id": "yvPFfwO6QmjL"
      },
      "execution_count": null,
      "outputs": []
    },
    {
      "cell_type": "code",
      "source": [
        "# @title\n",
        "print(f\"Found {len(sales_files)} sales files:\")\n",
        "print(sales_files)\n",
        "print(f\"\\nFound {len(void_files)} void files:\")\n",
        "print(void_files)"
      ],
      "metadata": {
        "cellView": "form",
        "id": "IQOEIayhRkcY"
      },
      "execution_count": null,
      "outputs": []
    },
    {
      "cell_type": "code",
      "source": [
        "# @title\n",
        "#Count Rows in Each Sales File\n",
        "total_sales_rows_before = 0\n",
        "for file in sales_files:\n",
        "    df = pd.read_csv(file)\n",
        "    total_sales_rows_before += df.shape[0]\n",
        "    print(f\"Shape of {file}: {df.shape[0]}\")\n",
        "print(f\"\\nTotal sales rows before merge: {total_sales_rows_before}\")"
      ],
      "metadata": {
        "cellView": "form",
        "id": "SC-Wn5N2Rtm5"
      },
      "execution_count": null,
      "outputs": []
    },
    {
      "cell_type": "code",
      "source": [
        "# @title\n",
        "#Count Rows in Each Void File\n",
        "total_void_rows_before = 0\n",
        "for file in void_files:\n",
        "    df = pd.read_csv(file)\n",
        "    total_void_rows_before += df.shape[0]\n",
        "    print(f\"Shape of {file}: {df.shape[0]}\")\n",
        "print(f\"\\nTotal void rows before merge: {total_void_rows_before}\")"
      ],
      "metadata": {
        "cellView": "form",
        "id": "zOII2SKAR5Ch"
      },
      "execution_count": null,
      "outputs": []
    },
    {
      "cell_type": "code",
      "source": [
        "# @title\n",
        "#Merge Sales Files\n",
        "all_sales = pd.DataFrame()  # Create empty DataFrame\n",
        "for file in sales_files:\n",
        "    df = pd.read_csv(file)\n",
        "    all_sales = pd.concat([all_sales, df], ignore_index=True)\n",
        "print(\"Sales files merged.\")"
      ],
      "metadata": {
        "cellView": "form",
        "id": "UW5PgN6KSHGa"
      },
      "execution_count": null,
      "outputs": []
    },
    {
      "cell_type": "code",
      "source": [
        "# @title\n",
        " #Merge Void Files\n",
        "all_void = pd.DataFrame()   # Create empty DataFrame\n",
        "for file in void_files:\n",
        "    df = pd.read_csv(file)\n",
        "    all_void = pd.concat([all_void, df], ignore_index=True)\n",
        "print(\"Void files merged.\")"
      ],
      "metadata": {
        "cellView": "form",
        "id": "wPwYuHooSSaK"
      },
      "execution_count": null,
      "outputs": []
    },
    {
      "cell_type": "code",
      "source": [
        "# @title\n",
        "# Validate merge and print details\n",
        "print(f\"Total sales rows before merge: {total_sales_rows_before}\")\n",
        "print(f\"Total sales rows after merge: {all_sales.shape[0]}\")\n",
        "assert all_sales.shape[0] == total_sales_rows_before, \"Sales merge row mismatch!\"\n",
        "\n",
        "print(f\"\\nTotal void rows before merge: {total_void_rows_before}\")\n",
        "print(f\"Total void rows after merge: {all_void.shape[0]}\")\n",
        "assert all_void.shape[0] == total_void_rows_before, \"Void merge row mismatch!\"\n",
        "\n"
      ],
      "metadata": {
        "cellView": "form",
        "id": "irFk2_VRSYWy"
      },
      "execution_count": null,
      "outputs": []
    },
    {
      "cell_type": "code",
      "source": [
        "import pandas as pd\n",
        "import glob\n",
        "import os\n",
        "from datetime import datetime\n",
        "\n",
        "# Define paths and get timestamp\n",
        "output_directory = \"/content/drive/MyDrive/TBC Copiers/Cleaned_Sales\"  # Adjust if needed\n",
        "timestamp = datetime.now().strftime(\"%Y%m%d_%H%M%S\")  # Format: YYYYMMDD_HHMMSS\n",
        "\n",
        "# Find all cleaned sales files\n",
        "sales_files = glob.glob(os.path.join(output_directory, \"sales_*.csv\"))\n",
        "void_files = glob.glob(os.path.join(output_directory, \"void_*.csv\"))\n",
        "print(f\"Found {len(sales_files)} sales files:\")\n",
        "print(sales_files)\n",
        "print(f\"\\nFound {len(void_files)} void files:\")\n",
        "print(void_files)\n",
        "\n",
        "\n",
        "# Calculate total rows before merging\n",
        "total_sales_rows_before = 0\n",
        "for file in sales_files:\n",
        "    df = pd.read_csv(file)\n",
        "    total_sales_rows_before += df.shape[0]\n",
        "    print(f\"Shape of {file}: {df.shape[0]}\")\n",
        "\n",
        "total_void_rows_before = 0\n",
        "for file in void_files:\n",
        "    df = pd.read_csv(file)\n",
        "    total_void_rows_before += df.shape[0]\n",
        "    print(f\"Shape of {file}: {df.shape[0]}\")\n",
        "\n",
        "\n",
        "# Initialize empty DataFrames to store the merged data\n",
        "all_sales = pd.DataFrame()\n",
        "all_void = pd.DataFrame()\n",
        "\n",
        "# Merge sales files\n",
        "for file in sales_files:\n",
        "    df = pd.read_csv(file)\n",
        "    all_sales = pd.concat([all_sales, df], ignore_index=True)\n",
        "\n",
        "# Merge void files\n",
        "for file in void_files:\n",
        "    df = pd.read_csv(file)\n",
        "    all_void = pd.concat([all_void, df], ignore_index=True)\n",
        "\n",
        "# Validate merge and print details\n",
        "print(f\"\\nTotal sales rows before merge: {total_sales_rows_before}\")\n",
        "print(f\"Total sales rows after merge: {all_sales.shape[0]}\")\n",
        "assert all_sales.shape[0] == total_sales_rows_before, \"Sales merge row mismatch!\"\n",
        "\n",
        "print(f\"\\nTotal void rows before merge: {total_void_rows_before}\")\n",
        "print(f\"Total void rows after merge: {all_void.shape[0]}\")\n",
        "assert all_void.shape[0] == total_void_rows_before, \"Void merge row mismatch!\"\n",
        "\n",
        "# Save merged DataFrames with timestamp\n",
        "all_sales.to_csv(os.path.join(output_directory, f\"all_sales_merged_{timestamp}.csv\"), index=False)\n",
        "all_void.to_csv(os.path.join(output_directory, f\"all_void_merged_{timestamp}.csv\"), index=False)\n",
        "\n",
        "print(\"Merging successful!\")"
      ],
      "metadata": {
        "colab": {
          "base_uri": "https://localhost:8080/"
        },
        "id": "nkr9L6wlS9fe",
        "outputId": "af44a791-7b69-40aa-c79f-8ea1a8f23ff3"
      },
      "execution_count": 15,
      "outputs": [
        {
          "output_type": "stream",
          "name": "stdout",
          "text": [
            "Found 5 sales files:\n",
            "['/content/drive/MyDrive/TBC Copiers/Cleaned_Sales/sales_Sales 2024 08_04_2024_cleaned.csv', '/content/drive/MyDrive/TBC Copiers/Cleaned_Sales/sales_Sales 2020_cleaned.csv', '/content/drive/MyDrive/TBC Copiers/Cleaned_Sales/sales_Sales 2022_cleaned.csv', '/content/drive/MyDrive/TBC Copiers/Cleaned_Sales/sales_Sales 2021_cleaned.csv', '/content/drive/MyDrive/TBC Copiers/Cleaned_Sales/sales_Sales 2023_cleaned.csv']\n",
            "\n",
            "Found 5 void files:\n",
            "['/content/drive/MyDrive/TBC Copiers/Cleaned_Sales/void_Sales 2024 08_04_2024_cleaned.csv', '/content/drive/MyDrive/TBC Copiers/Cleaned_Sales/void_Sales 2023_cleaned.csv', '/content/drive/MyDrive/TBC Copiers/Cleaned_Sales/void_Sales 2022_cleaned.csv', '/content/drive/MyDrive/TBC Copiers/Cleaned_Sales/void_Sales 2021_cleaned.csv', '/content/drive/MyDrive/TBC Copiers/Cleaned_Sales/void_Sales 2020_cleaned.csv']\n",
            "Shape of /content/drive/MyDrive/TBC Copiers/Cleaned_Sales/sales_Sales 2024 08_04_2024_cleaned.csv: 4218\n",
            "Shape of /content/drive/MyDrive/TBC Copiers/Cleaned_Sales/sales_Sales 2020_cleaned.csv: 4641\n",
            "Shape of /content/drive/MyDrive/TBC Copiers/Cleaned_Sales/sales_Sales 2022_cleaned.csv: 10797\n",
            "Shape of /content/drive/MyDrive/TBC Copiers/Cleaned_Sales/sales_Sales 2021_cleaned.csv: 11783\n",
            "Shape of /content/drive/MyDrive/TBC Copiers/Cleaned_Sales/sales_Sales 2023_cleaned.csv: 9518\n",
            "Shape of /content/drive/MyDrive/TBC Copiers/Cleaned_Sales/void_Sales 2024 08_04_2024_cleaned.csv: 825\n",
            "Shape of /content/drive/MyDrive/TBC Copiers/Cleaned_Sales/void_Sales 2023_cleaned.csv: 4036\n",
            "Shape of /content/drive/MyDrive/TBC Copiers/Cleaned_Sales/void_Sales 2022_cleaned.csv: 2417\n",
            "Shape of /content/drive/MyDrive/TBC Copiers/Cleaned_Sales/void_Sales 2021_cleaned.csv: 841\n",
            "Shape of /content/drive/MyDrive/TBC Copiers/Cleaned_Sales/void_Sales 2020_cleaned.csv: 86\n",
            "\n",
            "Total sales rows before merge: 40957\n",
            "Total sales rows after merge: 40957\n",
            "\n",
            "Total void rows before merge: 8205\n",
            "Total void rows after merge: 8205\n",
            "Merging successful!\n"
          ]
        }
      ]
    }
  ]
}