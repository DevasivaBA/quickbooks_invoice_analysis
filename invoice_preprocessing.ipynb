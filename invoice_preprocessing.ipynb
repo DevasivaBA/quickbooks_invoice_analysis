{
  "nbformat": 4,
  "nbformat_minor": 0,
  "metadata": {
    "colab": {
      "provenance": [],
      "mount_file_id": "1E8s_l49fjYlHOikmzyr37XRcHoDvl9_F",
      "authorship_tag": "ABX9TyNnjDKsUab+jEDgui+Ibsgc",
      "include_colab_link": true
    },
    "kernelspec": {
      "name": "python3",
      "display_name": "Python 3"
    },
    "language_info": {
      "name": "python"
    }
  },
  "cells": [
    {
      "cell_type": "markdown",
      "metadata": {
        "id": "view-in-github",
        "colab_type": "text"
      },
      "source": [
        "<a href=\"https://colab.research.google.com/github/DevasivaBA/quickbooks_invoice_analysis/blob/main/invoice_preprocessing.ipynb\" target=\"_parent\"><img src=\"https://colab.research.google.com/assets/colab-badge.svg\" alt=\"Open In Colab\"/></a>"
      ]
    },
    {
      "cell_type": "code",
      "execution_count": 1,
      "metadata": {
        "colab": {
          "base_uri": "https://localhost:8080/"
        },
        "id": "NVbXV7LOLVtW",
        "outputId": "b983b88b-68f4-49f7-f41f-ffaf35ffc623"
      },
      "outputs": [
        {
          "output_type": "stream",
          "name": "stdout",
          "text": [
            "Drive already mounted at /content/drive; to attempt to forcibly remount, call drive.mount(\"/content/drive\", force_remount=True).\n"
          ]
        }
      ],
      "source": [
        "from google.colab import drive\n",
        "drive.mount('/content/drive')"
      ]
    },
    {
      "cell_type": "code",
      "execution_count": 2,
      "metadata": {
        "id": "8oaau7xsLaDh"
      },
      "outputs": [],
      "source": [
        "import pandas as pd\n",
        "import os\n",
        "import glob"
      ]
    },
    {
      "cell_type": "code",
      "source": [
        "def clean_sales_data(file_path, output_directory):\n",
        "    \"\"\"\n",
        "    Cleans sales data from a CSV file.\n",
        "\n",
        "    Args:\n",
        "        file_path (str): The path to the CSV file.\n",
        "        output_directory (str): The directory to save the cleaned data to.\n",
        "    \"\"\"\n",
        "\n",
        "    # Read the CSV file, handling encoding (common issue)\n",
        "    df = pd.read_csv(file_path, encoding=\"cp1252\")\n",
        "\n",
        "    # Filter out rows with missing 'Type' values\n",
        "    df = df[df['Type'].notna()].iloc[:, 1:]\n",
        "\n",
        "    # Clean and standardize column names\n",
        "    df.columns = df.columns.str.replace(' ', '_').str.replace('[^A-Za-z0-9_]+', '', regex=True)\n",
        "\n",
        "    # Drop specific unnecessary columns\n",
        "    df = df.drop(['Amount', 'Balance', 'U/M'], axis=1, errors='ignore')\n",
        "\n",
        "    # Split data into sales and void transactions\n",
        "    sales_void = df[df['Qty'] == 0.0]\n",
        "    sales = df[df['Qty'] != 0.0]\n",
        "\n",
        "    # Validate the split\n",
        "    assert sales.shape[0] + sales_void.shape[0] == df.shape[0], \"Splitting failed!\"\n",
        "\n",
        "    # Clean the 'Item' column in the sales data\n",
        "    sales['Item'] = sales['Item'].astype(str).str.replace(r'\\([^)]*\\)', '', regex=True)\n",
        "    # Clean the 'Item' column in the sales data which has delimiter '(' and after the text\n",
        "    sales['Item'] = sales['Item'].astype(str).str.replace(r'\\(.*', '', regex=True)\n",
        "    # Generate unique output filenames based on the input filename\n",
        "    file_name_base = os.path.splitext(os.path.basename(file_path))[0]  # Remove extension\n",
        "    sales_filename = f\"sales_{file_name_base}_cleaned.csv\"\n",
        "    void_filename = f\"void_{file_name_base}_cleaned.csv\"\n",
        "\n",
        "    # Save the cleaned datasets with unique names\n",
        "    sales.to_csv(os.path.join(output_directory, sales_filename), index=False)\n",
        "    sales_void.to_csv(os.path.join(output_directory, void_filename), index=False, mode ='w')"
      ],
      "metadata": {
        "id": "8O_ynUvWLXGg"
      },
      "execution_count": 6,
      "outputs": []
    },
    {
      "cell_type": "code",
      "source": [
        "# --- Main Execution ---\n",
        "\n",
        "# Mount your Google Drive (if needed)\n",
        "# from google.colab import drive\n",
        "# drive.mount('/content/drive')\n",
        "\n",
        "# Define paths and file patterns (adjust to your setup)\n",
        "data_directory = \"/content/drive/MyDrive/TBC Copiers/Sales 08-04-2024\"\n",
        "output_directory = \"/content/drive/MyDrive/TBC Copiers/Cleaned_Sales\"\n",
        "file_pattern = \"Sales*.CSV\"\n",
        "\n",
        "# Create the output directory if it doesn't exist\n",
        "os.makedirs(output_directory, exist_ok=True)\n",
        "\n",
        "# Loop through the files and clean them\n",
        "file_paths = glob.glob(os.path.join(data_directory, file_pattern))\n",
        "for file_path in file_paths:\n",
        "    print(f\"Processing: {file_path}\")\n",
        "    clean_sales_data(file_path, output_directory)"
      ],
      "metadata": {
        "colab": {
          "base_uri": "https://localhost:8080/"
        },
        "id": "s7VCpITGMisQ",
        "outputId": "1e0b1d3d-930b-4d14-cd40-5e78c18c78b2"
      },
      "execution_count": 7,
      "outputs": [
        {
          "output_type": "stream",
          "name": "stdout",
          "text": [
            "Processing: /content/drive/MyDrive/TBC Copiers/Sales 08-04-2024/Sales 2024 08_04_2024.CSV\n",
            "Processing: /content/drive/MyDrive/TBC Copiers/Sales 08-04-2024/Sales 2023.CSV\n"
          ]
        },
        {
          "output_type": "stream",
          "name": "stderr",
          "text": [
            "<ipython-input-6-0612aa4090ad>:30: SettingWithCopyWarning: \n",
            "A value is trying to be set on a copy of a slice from a DataFrame.\n",
            "Try using .loc[row_indexer,col_indexer] = value instead\n",
            "\n",
            "See the caveats in the documentation: https://pandas.pydata.org/pandas-docs/stable/user_guide/indexing.html#returning-a-view-versus-a-copy\n",
            "  sales['Item'] = sales['Item'].astype(str).str.replace(r'\\([^)]*\\)', '', regex=True)\n",
            "<ipython-input-6-0612aa4090ad>:33: SettingWithCopyWarning: \n",
            "A value is trying to be set on a copy of a slice from a DataFrame.\n",
            "Try using .loc[row_indexer,col_indexer] = value instead\n",
            "\n",
            "See the caveats in the documentation: https://pandas.pydata.org/pandas-docs/stable/user_guide/indexing.html#returning-a-view-versus-a-copy\n",
            "  sales['Item'] = sales['Item'].astype(str).str.replace(r'\\(.*', '', regex=True)\n",
            "<ipython-input-6-0612aa4090ad>:30: SettingWithCopyWarning: \n",
            "A value is trying to be set on a copy of a slice from a DataFrame.\n",
            "Try using .loc[row_indexer,col_indexer] = value instead\n",
            "\n",
            "See the caveats in the documentation: https://pandas.pydata.org/pandas-docs/stable/user_guide/indexing.html#returning-a-view-versus-a-copy\n",
            "  sales['Item'] = sales['Item'].astype(str).str.replace(r'\\([^)]*\\)', '', regex=True)\n",
            "<ipython-input-6-0612aa4090ad>:33: SettingWithCopyWarning: \n",
            "A value is trying to be set on a copy of a slice from a DataFrame.\n",
            "Try using .loc[row_indexer,col_indexer] = value instead\n",
            "\n",
            "See the caveats in the documentation: https://pandas.pydata.org/pandas-docs/stable/user_guide/indexing.html#returning-a-view-versus-a-copy\n",
            "  sales['Item'] = sales['Item'].astype(str).str.replace(r'\\(.*', '', regex=True)\n"
          ]
        },
        {
          "output_type": "stream",
          "name": "stdout",
          "text": [
            "Processing: /content/drive/MyDrive/TBC Copiers/Sales 08-04-2024/Sales 2022.CSV\n"
          ]
        },
        {
          "output_type": "stream",
          "name": "stderr",
          "text": [
            "<ipython-input-6-0612aa4090ad>:30: SettingWithCopyWarning: \n",
            "A value is trying to be set on a copy of a slice from a DataFrame.\n",
            "Try using .loc[row_indexer,col_indexer] = value instead\n",
            "\n",
            "See the caveats in the documentation: https://pandas.pydata.org/pandas-docs/stable/user_guide/indexing.html#returning-a-view-versus-a-copy\n",
            "  sales['Item'] = sales['Item'].astype(str).str.replace(r'\\([^)]*\\)', '', regex=True)\n",
            "<ipython-input-6-0612aa4090ad>:33: SettingWithCopyWarning: \n",
            "A value is trying to be set on a copy of a slice from a DataFrame.\n",
            "Try using .loc[row_indexer,col_indexer] = value instead\n",
            "\n",
            "See the caveats in the documentation: https://pandas.pydata.org/pandas-docs/stable/user_guide/indexing.html#returning-a-view-versus-a-copy\n",
            "  sales['Item'] = sales['Item'].astype(str).str.replace(r'\\(.*', '', regex=True)\n"
          ]
        },
        {
          "output_type": "stream",
          "name": "stdout",
          "text": [
            "Processing: /content/drive/MyDrive/TBC Copiers/Sales 08-04-2024/Sales 2021.CSV\n"
          ]
        },
        {
          "output_type": "stream",
          "name": "stderr",
          "text": [
            "<ipython-input-6-0612aa4090ad>:30: SettingWithCopyWarning: \n",
            "A value is trying to be set on a copy of a slice from a DataFrame.\n",
            "Try using .loc[row_indexer,col_indexer] = value instead\n",
            "\n",
            "See the caveats in the documentation: https://pandas.pydata.org/pandas-docs/stable/user_guide/indexing.html#returning-a-view-versus-a-copy\n",
            "  sales['Item'] = sales['Item'].astype(str).str.replace(r'\\([^)]*\\)', '', regex=True)\n",
            "<ipython-input-6-0612aa4090ad>:33: SettingWithCopyWarning: \n",
            "A value is trying to be set on a copy of a slice from a DataFrame.\n",
            "Try using .loc[row_indexer,col_indexer] = value instead\n",
            "\n",
            "See the caveats in the documentation: https://pandas.pydata.org/pandas-docs/stable/user_guide/indexing.html#returning-a-view-versus-a-copy\n",
            "  sales['Item'] = sales['Item'].astype(str).str.replace(r'\\(.*', '', regex=True)\n"
          ]
        },
        {
          "output_type": "stream",
          "name": "stdout",
          "text": [
            "Processing: /content/drive/MyDrive/TBC Copiers/Sales 08-04-2024/Sales 2020.CSV\n"
          ]
        },
        {
          "output_type": "stream",
          "name": "stderr",
          "text": [
            "<ipython-input-6-0612aa4090ad>:30: SettingWithCopyWarning: \n",
            "A value is trying to be set on a copy of a slice from a DataFrame.\n",
            "Try using .loc[row_indexer,col_indexer] = value instead\n",
            "\n",
            "See the caveats in the documentation: https://pandas.pydata.org/pandas-docs/stable/user_guide/indexing.html#returning-a-view-versus-a-copy\n",
            "  sales['Item'] = sales['Item'].astype(str).str.replace(r'\\([^)]*\\)', '', regex=True)\n",
            "<ipython-input-6-0612aa4090ad>:33: SettingWithCopyWarning: \n",
            "A value is trying to be set on a copy of a slice from a DataFrame.\n",
            "Try using .loc[row_indexer,col_indexer] = value instead\n",
            "\n",
            "See the caveats in the documentation: https://pandas.pydata.org/pandas-docs/stable/user_guide/indexing.html#returning-a-view-versus-a-copy\n",
            "  sales['Item'] = sales['Item'].astype(str).str.replace(r'\\(.*', '', regex=True)\n"
          ]
        }
      ]
    },
    {
      "cell_type": "code",
      "source": [
        "\n"
      ],
      "metadata": {
        "id": "zhpN8_y_PviV"
      },
      "execution_count": null,
      "outputs": []
    }
  ]
}